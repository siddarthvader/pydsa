{
 "cells": [
  {
   "cell_type": "code",
   "execution_count": 7,
   "id": "d37cacf1",
   "metadata": {},
   "outputs": [],
   "source": [
    "def find_zero_sum(nums):\n",
    "    s = set()\n",
    "    \n",
    "    s.add(0)\n",
    "    \n",
    "    total=0\n",
    "    \n",
    "    for i in nums:\n",
    "        total += i\n",
    "        print(total)\n",
    "        if total in s:\n",
    "            print(s)\n",
    "            return True\n",
    "        s.add(total)\n",
    "    return false\n",
    "    "
   ]
  },
  {
   "cell_type": "code",
   "execution_count": 8,
   "id": "5ee6d36d",
   "metadata": {},
   "outputs": [
    {
     "name": "stdout",
     "output_type": "stream",
     "text": [
      "3\n",
      "7\n",
      "0\n",
      "{0, 3, 7}\n"
     ]
    },
    {
     "data": {
      "text/plain": [
       "True"
      ]
     },
     "execution_count": 8,
     "metadata": {},
     "output_type": "execute_result"
    }
   ],
   "source": [
    "find_zero_sum([3, 4, -7, 3, 1, 3, 1, -4, -2, -2 ])"
   ]
  }
 ],
 "metadata": {
  "kernelspec": {
   "display_name": "Python 3 (ipykernel)",
   "language": "python",
   "name": "python3"
  },
  "language_info": {
   "codemirror_mode": {
    "name": "ipython",
    "version": 3
   },
   "file_extension": ".py",
   "mimetype": "text/x-python",
   "name": "python",
   "nbconvert_exporter": "python",
   "pygments_lexer": "ipython3",
   "version": "3.8.16"
  }
 },
 "nbformat": 4,
 "nbformat_minor": 5
}

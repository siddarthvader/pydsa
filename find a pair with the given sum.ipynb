{
 "cells": [
  {
   "cell_type": "code",
   "execution_count": 22,
   "id": "5e85eb30",
   "metadata": {},
   "outputs": [],
   "source": [
    "def find_pair(nums,target):\n",
    "    d= {}\n",
    "    for i, e in enumerate(nums):\n",
    "        print(i,e)\n",
    "        if target - e in d:\n",
    "            print(\"Pair found\", (nums[d.get(target-e)], nums[i]))\n",
    "            print(d)\n",
    "            return\n",
    "        d[e]=i\n",
    "    print(\"Pair not found\")\n",
    "    "
   ]
  },
  {
   "cell_type": "code",
   "execution_count": 23,
   "id": "d749d58c",
   "metadata": {},
   "outputs": [
    {
     "name": "stdout",
     "output_type": "stream",
     "text": [
      "0 1\n",
      "1 2\n",
      "2 32\n",
      "3 22\n",
      "4 43\n",
      "5 4\n",
      "Pair found (1, 4)\n",
      "{1: 0, 2: 1, 32: 2, 22: 3, 43: 4}\n"
     ]
    }
   ],
   "source": [
    "find_pair([1,2,32,22,43,4], 5)"
   ]
  }
 ],
 "metadata": {
  "kernelspec": {
   "display_name": "Python 3 (ipykernel)",
   "language": "python",
   "name": "python3"
  },
  "language_info": {
   "codemirror_mode": {
    "name": "ipython",
    "version": 3
   },
   "file_extension": ".py",
   "mimetype": "text/x-python",
   "name": "python",
   "nbconvert_exporter": "python",
   "pygments_lexer": "ipython3",
   "version": "3.8.16"
  }
 },
 "nbformat": 4,
 "nbformat_minor": 5
}
